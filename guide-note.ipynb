{
 "cells": [
  {
   "cell_type": "markdown",
   "metadata": {},
   "source": [
    "# 코드 활용 가이드\n",
    "- preprocess_config 설정\n",
    "- preprocess 실행\n",
    "- config 설정\n",
    "- eval 실행\n",
    "- train 실행\n",
    "- predict 실행"
   ]
  },
  {
   "cell_type": "markdown",
   "metadata": {},
   "source": [
    "note*\n",
    "- 클래스를 불러와 실행하는 경우, 작업 경로를 `est_wassup_01/main` 으로 설정하여 진행해주세요.\n",
    "- import 의 경로가 relative 로 설정되지 않은 경우가 존재합니다."
   ]
  },
  {
   "cell_type": "code",
   "execution_count": 1,
   "metadata": {},
   "outputs": [],
   "source": [
    "import os\n",
    "os.chdir('./main/')"
   ]
  },
  {
   "cell_type": "markdown",
   "metadata": {},
   "source": [
    "## Preprocess_config 설정\n",
    "- preprocess_config.py 파일을 수정해주세요.\n",
    "- 실험에 사용되는 모든 config 파일들은 `est_wassup_01/main/configs` 경로에 위치해 있습니다."
   ]
  },
  {
   "cell_type": "markdown",
   "metadata": {},
   "source": [
    "note)\n",
    "- 현재 Github 에 올라간 main/data/features/ 하위의 데이터는 additional 데이터가 포함된 Single Task NN 를 대상으로 한 데이터 입니다.\n",
    "  - ECLO 를 대상으로 함.\n",
    "  - 깃헙에 최신 업데이트 된 preprocess_config 를 기반으로 전처리 된 데이터.\n",
    "- additional 데이터 없이 진행하고 싶으시다면 preprocess_config 의 add_data 안의 add_csv_list 를 주석처리 후 preprocessing 진행하여 이용해주세요. "
   ]
  },
  {
   "cell_type": "code",
   "execution_count": 9,
   "metadata": {},
   "outputs": [],
   "source": [
    "from configs.preprocess_config import config\n",
    "\n",
    "\n",
    "prerpocess_config = {\n",
    "  **config,\n",
    "  \"input_data\": {\n",
    "    \"train_csv\": \"./data/origin/train.csv\",\n",
    "    \"test_csv\": \"./data/origin/test.csv\",\n",
    "  },\n",
    "  # preprocessing 후 저장될 경로를 지정합니다.\n",
    "  \"output_data\": {\n",
    "    \"train_feas_csv\": \"./data/features/train_X.csv\",\n",
    "    \"test_feas_csv\": \"./data/features/test_X.csv\",\n",
    "    \"train_target_csv\": \"./data/features/train_target.csv\",\n",
    "    \"y_scaler_save\": \"./data/features/y_scaler.save\",\n",
    "  },\n",
    "  # 추가할 외부 데이터들의 경로를 지정합니다.\n",
    "  \"add_data\": {\n",
    "    \"add_csv_list\": [\n",
    "      # \"./data/origin/additionals/bad_cars.csv\",  # 0\n",
    "      # \"./data/origin/additionals/bad_pedestrian.csv\",  # 1\n",
    "      # \"./data/origin/additionals/car_per_area_size_dong.csv\",  # 2\n",
    "      # \"./data/origin/additionals/car_speed.csv\",  # 3\n",
    "      # \"./data/origin/additionals/car_traffic.csv\",  # 4\n",
    "      # \"./data/origin/additionals/frozen_road.csv\",  # 5\n",
    "      # \"./data/origin/additionals/moving_pop_by_age.csv\",  # 6\n",
    "      # \"./data/origin/additionals/moving_pop_by_days.csv\",  # 7\n",
    "      # \"./data/origin/additionals/moving_pop_by_time.csv\",  # 8\n",
    "      # \"./data/origin/additionals/old_pedestrian.csv\",  # 9\n",
    "      # \"./data/origin/additionals/pedestrian.csv\",  # 10\n",
    "      # \"./data/origin/additionals/population_mildo_gu_basis.csv\",  # 12\n",
    "      # \"./data/origin/additionals/rain_mm_monthly.csv\",  # 13\n",
    "      # \"./data/origin/additionals/road_long_by_dong.csv\",  # 14\n",
    "      # \"./data/origin/additionals/snow_mean_days_monthly.csv\",  # 15\n",
    "      # \"./data/origin/additionals/sun_records_monthly_mean.csv\",  # 16\n",
    "      # \"./data/origin/additionals/truck.csv\",  # 17\n",
    "      # \"./data/origin/additionals/weather_overall_monthly.csv\",  # 18\n",
    "    ],\n",
    "  }\n",
    "}"
   ]
  },
  {
   "cell_type": "markdown",
   "metadata": {},
   "source": [
    "## Preprocess 실행\n",
    "- 아래와 같이 Homedata 클래스를 불러와서 실행할 수 있습니다.\n",
    "- 혹은 `est_wassup_01/main` 경로에서 `python preprocess.py` 를 통해 실행하실 수 있습니다."
   ]
  },
  {
   "cell_type": "code",
   "execution_count": 3,
   "metadata": {},
   "outputs": [
    {
     "name": "stdout",
     "output_type": "stream",
     "text": [
      "(39609, 156)\n",
      "(10963, 156)\n"
     ]
    },
    {
     "data": {
      "text/plain": [
       "['./data/features/y_scaler.save']"
      ]
     },
     "execution_count": 3,
     "metadata": {},
     "output_type": "execute_result"
    }
   ],
   "source": [
    "from datasets import HomeData\n",
    "from utils import create_path_if_not_exists\n",
    "import joblib\n",
    "\n",
    "input_data = prerpocess_config.get('input_data')\n",
    "add_data = prerpocess_config.get('add_data')\n",
    "options = prerpocess_config.get('options')\n",
    "output_data = prerpocess_config.get('output_data')\n",
    "\n",
    "trn_X, trn_y, tst_X, y_scaler = HomeData(\n",
    "  **input_data,\n",
    "  **add_data,\n",
    "  **options\n",
    ").preprocess()\n",
    "\n",
    "for k,v in output_data.items():\n",
    "  create_path_if_not_exists(v, True, '/')\n",
    "trn_X.to_csv(output_data.get('train_feas_csv'))\n",
    "tst_X.to_csv(output_data.get('test_feas_csv'))\n",
    "trn_y.to_csv(output_data.get('train_target_csv'))\n",
    "joblib.dump(y_scaler, output_data.get('y_scaler_save'))"
   ]
  },
  {
   "cell_type": "markdown",
   "metadata": {},
   "source": [
    "## Config 설정\n",
    "- config.py 파일을 수정해주세요.\n",
    "- 실험에 사용되는 모든 config 파일들은 `est_wassup_01/main/configs` 경로에 위치해 있습니다."
   ]
  },
  {
   "cell_type": "code",
   "execution_count": 10,
   "metadata": {},
   "outputs": [],
   "source": [
    "from configs.config import config\n",
    "\n",
    "EXPERIMENT_NAME = 'guide-note'\n",
    "\n",
    "config = {\n",
    "  **config,\n",
    "  \"input_files\": {\n",
    "    \"X_csv\": \"./data/features/train_X.csv\",\n",
    "    \"y_csv\": \"./data/features/train_target.csv\",\n",
    "    \"tst_csv\": \"./data/features/test_X.csv\",\n",
    "  },\n",
    "  \"output_files\": {\n",
    "    \"output_train_loss\": f\"./histories/{EXPERIMENT_NAME}/trn_loss.csv\",\n",
    "    \"output_train\": f\"./histories/{EXPERIMENT_NAME}/model.pth\",\n",
    "    \"output_eval\": f\"./histories/{EXPERIMENT_NAME}/eval.csv\",\n",
    "    \"output_pred\": f\"./histories/{EXPERIMENT_NAME}/pred.csv\",\n",
    "  },\n",
    "}"
   ]
  },
  {
   "cell_type": "markdown",
   "metadata": {},
   "source": [
    "## Train 실행\n",
    "- 아래와 같이 TrainMaker / Train 클래스를 불러와서 실행할 수 있습니다.\n",
    "- 혹은 `est_wassup_01/main` 경로에서 `python train.py` 를 통해 실행하실 수 있습니다."
   ]
  },
  {
   "cell_type": "code",
   "execution_count": 7,
   "metadata": {},
   "outputs": [
    {
     "data": {
      "application/vnd.jupyter.widget-view+json": {
       "model_id": "7555e049e5004dac8acaaf1ff0bb6dd3",
       "version_major": 2,
       "version_minor": 0
      },
      "text/plain": [
       "  0%|          | 0/50 [00:00<?, ?it/s]"
      ]
     },
     "metadata": {},
     "output_type": "display_data"
    }
   ],
   "source": [
    "from torch import manual_seed\n",
    "from trains import Train\n",
    "from makers import TrainMaker\n",
    "\n",
    "\n",
    "manual_seed(2023)\n",
    "train_maker = TrainMaker(**config)\n",
    "Train.run(train_maker)"
   ]
  },
  {
   "cell_type": "markdown",
   "metadata": {},
   "source": [
    "# Eval 실행\n",
    "- 아래와 같이 EvalMaker / KFoldCV 클래스를 불러와서 실행할 수 있습니다.\n",
    "- 혹은 `est_wassup_01/main` 경로에서 `python eval.py` 를 통해 실행하실 수 있습니다."
   ]
  },
  {
   "cell_type": "code",
   "execution_count": 8,
   "metadata": {},
   "outputs": [
    {
     "data": {
      "application/vnd.jupyter.widget-view+json": {
       "model_id": "23854d4921524f62967fb64b8bfcb912",
       "version_major": 2,
       "version_minor": 0
      },
      "text/plain": [
       "  0%|          | 0/50 [00:00<?, ?it/s]"
      ]
     },
     "metadata": {},
     "output_type": "display_data"
    },
    {
     "data": {
      "application/vnd.jupyter.widget-view+json": {
       "model_id": "500ba3581bb74980bdf7f89f6ee9d79d",
       "version_major": 2,
       "version_minor": 0
      },
      "text/plain": [
       "  0%|          | 0/50 [00:00<?, ?it/s]"
      ]
     },
     "metadata": {},
     "output_type": "display_data"
    },
    {
     "data": {
      "application/vnd.jupyter.widget-view+json": {
       "model_id": "e447cc2002cd437e9f1e210d72e2bdb5",
       "version_major": 2,
       "version_minor": 0
      },
      "text/plain": [
       "  0%|          | 0/50 [00:00<?, ?it/s]"
      ]
     },
     "metadata": {},
     "output_type": "display_data"
    },
    {
     "data": {
      "application/vnd.jupyter.widget-view+json": {
       "model_id": "158a780451f445f79fc732e354e05e75",
       "version_major": 2,
       "version_minor": 0
      },
      "text/plain": [
       "  0%|          | 0/50 [00:00<?, ?it/s]"
      ]
     },
     "metadata": {},
     "output_type": "display_data"
    },
    {
     "data": {
      "application/vnd.jupyter.widget-view+json": {
       "model_id": "56ccc19d6a354c1f9c8de7850d67ebfc",
       "version_major": 2,
       "version_minor": 0
      },
      "text/plain": [
       "  0%|          | 0/50 [00:00<?, ?it/s]"
      ]
     },
     "metadata": {},
     "output_type": "display_data"
    },
    {
     "name": "stdout",
     "output_type": "stream",
     "text": [
      "        trn_r2    val_r2                                        trn_history  \\\n",
      "0     0.023054  0.029884  {'trn_mae': [0.05293317139148712, 0.0320810712...   \n",
      "1     0.022644  0.022822  {'trn_mae': [0.05559570714831352, 0.0323258489...   \n",
      "2     0.025091  0.028350  {'trn_mae': [0.055722445249557495, 0.032495725...   \n",
      "3     0.022227  0.028448  {'trn_mae': [0.05972567945718765, 0.0338713079...   \n",
      "4     0.023142  0.019013  {'trn_mae': [0.054147712886333466, 0.033395677...   \n",
      "mean  0.023232  0.025703                                                NaN   \n",
      "\n",
      "                                            val_history  \n",
      "0     {'val_mae': [0.03101440519094467, 0.0294005479...  \n",
      "1     {'val_mae': [0.034833211451768875, 0.030823865...  \n",
      "2     {'val_mae': [0.03943844139575958, 0.0291497204...  \n",
      "3     {'val_mae': [0.03055543452501297, 0.0325411967...  \n",
      "4     {'val_mae': [0.030459867790341377, 0.027156822...  \n",
      "mean                                                NaN  \n"
     ]
    }
   ],
   "source": [
    "from makers import EvalMaker\n",
    "from model_selection import KFoldCV, HoldoutWithTestCSV\n",
    "import pandas as pd\n",
    "from utils import create_path_if_not_exists\n",
    "\n",
    "\n",
    "eval_maker = EvalMaker(**config)\n",
    "cv = KFoldCV(eval_maker)\n",
    "# cv = HoldoutWithTestCSV(eval_maker)\n",
    "res = cv()\n",
    "res = pd.concat([res, res.iloc[:,:2].apply(['mean'])])\n",
    "print(res)\n",
    "create_path_if_not_exists(eval_maker.output_eval)\n",
    "res.to_csv(eval_maker.output_eval)"
   ]
  },
  {
   "cell_type": "markdown",
   "metadata": {},
   "source": [
    "## Predict 실행\n",
    "- Predict 의 경우, preprocess_config 와 config 둘 모두를 활용합니다.\n",
    "- 아래와 같이 Predict 클래스를 불러와서 실행할 수 있습니다.\n",
    "- 혹은 `est_wassup_01/main` 경로에서 `python predict.py` 를 통해 실행하실 수 있습니다."
   ]
  },
  {
   "cell_type": "code",
   "execution_count": 11,
   "metadata": {},
   "outputs": [],
   "source": [
    "from inferences import Predict\n",
    "\n",
    "\n",
    "options = prerpocess_config.get('options')\n",
    "output_csv = prerpocess_config.get('output_data')\n",
    "Predict(\n",
    "  index_col=options.get('index_col'),\n",
    "  target_cols=options.get('target_cols'),\n",
    "  target_drop_col=options.get('target_drop_col'),\n",
    "  y_scaler_save=output_csv.get('y_scaler_save'),\n",
    "  y_scaler=options.get('y_scaler'),\n",
    "  **config\n",
    ").run()"
   ]
  },
  {
   "cell_type": "code",
   "execution_count": null,
   "metadata": {},
   "outputs": [],
   "source": []
  }
 ],
 "metadata": {
  "kernelspec": {
   "display_name": "MathAI",
   "language": "python",
   "name": "python3"
  },
  "language_info": {
   "codemirror_mode": {
    "name": "ipython",
    "version": 3
   },
   "file_extension": ".py",
   "mimetype": "text/x-python",
   "name": "python",
   "nbconvert_exporter": "python",
   "pygments_lexer": "ipython3",
   "version": "3.10.13"
  }
 },
 "nbformat": 4,
 "nbformat_minor": 2
}
