{
 "cells": [
  {
   "cell_type": "markdown",
   "metadata": {},
   "source": [
    "# GridSearch\n",
    "- GridSearch 를 진행하여 최적화 모델을 찾아봅니다."
   ]
  },
  {
   "cell_type": "code",
   "execution_count": 2,
   "metadata": {},
   "outputs": [],
   "source": [
    "import warnings\n",
    "\n",
    "# your regular code\n",
    "with warnings.catch_warnings():\n",
    "    warnings.simplefilter('ignore')\n",
    "\n",
    "RANDOM_STATE = 2023"
   ]
  },
  {
   "cell_type": "markdown",
   "metadata": {},
   "source": [
    "# Feature 생성\n",
    "- X_trn, y_trn 을 생성합니다."
   ]
  },
  {
   "cell_type": "code",
   "execution_count": 3,
   "metadata": {},
   "outputs": [
    {
     "name": "stdout",
     "output_type": "stream",
     "text": [
      "(39609, 31)\n",
      "(10963, 31)\n"
     ]
    }
   ],
   "source": [
    "from datasets import HomeData\n",
    "from configs.preprocess_config import config\n",
    "from copy import deepcopy\n",
    "\n",
    "config = deepcopy(config)\n",
    "\n",
    "input_data = config.get('input_data')\n",
    "add_data = config.get('add_data')\n",
    "options = config.get('options')\n",
    "output_data = config.get('output_data')\n",
    "\n",
    "options[\"x_scaler\"] = None\n",
    "options[\"y_scaler\"] = None\n",
    "\n",
    "trn_X, trn_y, tst_X, y_scaler = HomeData(\n",
    "  **input_data,\n",
    "  **add_data,\n",
    "  **options\n",
    ").preprocess()"
   ]
  },
  {
   "cell_type": "code",
   "execution_count": 4,
   "metadata": {},
   "outputs": [
    {
     "name": "stderr",
     "output_type": "stream",
     "text": [
      "/home/sdk/miniconda3/envs/MathAI/lib/python3.10/site-packages/seaborn/utils.py:84: UserWarning: Glyph 49324 (\\N{HANGUL SYLLABLE SA}) missing from current font.\n",
      "  fig.canvas.draw()\n",
      "/home/sdk/miniconda3/envs/MathAI/lib/python3.10/site-packages/seaborn/utils.py:84: UserWarning: Glyph 44256 (\\N{HANGUL SYLLABLE GO}) missing from current font.\n",
      "  fig.canvas.draw()\n",
      "/home/sdk/miniconda3/envs/MathAI/lib/python3.10/site-packages/seaborn/utils.py:84: UserWarning: Glyph 50976 (\\N{HANGUL SYLLABLE YU}) missing from current font.\n",
      "  fig.canvas.draw()\n",
      "/home/sdk/miniconda3/envs/MathAI/lib/python3.10/site-packages/seaborn/utils.py:84: UserWarning: Glyph 54805 (\\N{HANGUL SYLLABLE HYEONG}) missing from current font.\n",
      "  fig.canvas.draw()\n",
      "/home/sdk/miniconda3/envs/MathAI/lib/python3.10/site-packages/seaborn/utils.py:84: UserWarning: Glyph 52264 (\\N{HANGUL SYLLABLE CA}) missing from current font.\n",
      "  fig.canvas.draw()\n",
      "/home/sdk/miniconda3/envs/MathAI/lib/python3.10/site-packages/seaborn/utils.py:84: UserWarning: Glyph 45824 (\\N{HANGUL SYLLABLE DAE}) missing from current font.\n",
      "  fig.canvas.draw()\n",
      "/home/sdk/miniconda3/envs/MathAI/lib/python3.10/site-packages/seaborn/utils.py:84: UserWarning: Glyph 46988 (\\N{HANGUL SYLLABLE RAM}) missing from current font.\n",
      "  fig.canvas.draw()\n",
      "/home/sdk/miniconda3/envs/MathAI/lib/python3.10/site-packages/seaborn/utils.py:84: UserWarning: Glyph 46020 (\\N{HANGUL SYLLABLE DO}) missing from current font.\n",
      "  fig.canvas.draw()\n",
      "/home/sdk/miniconda3/envs/MathAI/lib/python3.10/site-packages/seaborn/utils.py:84: UserWarning: Glyph 47196 (\\N{HANGUL SYLLABLE RO}) missing from current font.\n",
      "  fig.canvas.draw()\n",
      "/home/sdk/miniconda3/envs/MathAI/lib/python3.10/site-packages/seaborn/utils.py:84: UserWarning: Glyph 53468 (\\N{HANGUL SYLLABLE TAE}) missing from current font.\n",
      "  fig.canvas.draw()\n",
      "/home/sdk/miniconda3/envs/MathAI/lib/python3.10/site-packages/seaborn/utils.py:84: UserWarning: Glyph 44368 (\\N{HANGUL SYLLABLE GYO}) missing from current font.\n",
      "  fig.canvas.draw()\n",
      "/home/sdk/miniconda3/envs/MathAI/lib/python3.10/site-packages/seaborn/utils.py:84: UserWarning: Glyph 50504 (\\N{HANGUL SYLLABLE AN}) missing from current font.\n",
      "  fig.canvas.draw()\n",
      "/home/sdk/miniconda3/envs/MathAI/lib/python3.10/site-packages/seaborn/utils.py:84: UserWarning: Glyph 44592 (\\N{HANGUL SYLLABLE GI}) missing from current font.\n",
      "  fig.canvas.draw()\n",
      "/home/sdk/miniconda3/envs/MathAI/lib/python3.10/site-packages/seaborn/utils.py:84: UserWarning: Glyph 53440 (\\N{HANGUL SYLLABLE TA}) missing from current font.\n",
      "  fig.canvas.draw()\n",
      "/home/sdk/miniconda3/envs/MathAI/lib/python3.10/site-packages/seaborn/utils.py:84: UserWarning: Glyph 50836 (\\N{HANGUL SYLLABLE YO}) missing from current font.\n",
      "  fig.canvas.draw()\n",
      "/home/sdk/miniconda3/envs/MathAI/lib/python3.10/site-packages/seaborn/utils.py:84: UserWarning: Glyph 51068 (\\N{HANGUL SYLLABLE IL}) missing from current font.\n",
      "  fig.canvas.draw()\n",
      "/home/sdk/miniconda3/envs/MathAI/lib/python3.10/site-packages/seaborn/utils.py:84: UserWarning: Glyph 54945 (\\N{HANGUL SYLLABLE HOENG}) missing from current font.\n",
      "  fig.canvas.draw()\n",
      "/home/sdk/miniconda3/envs/MathAI/lib/python3.10/site-packages/seaborn/utils.py:84: UserWarning: Glyph 45800 (\\N{HANGUL SYLLABLE DAN}) missing from current font.\n",
      "  fig.canvas.draw()\n",
      "/home/sdk/miniconda3/envs/MathAI/lib/python3.10/site-packages/seaborn/utils.py:84: UserWarning: Glyph 48372 (\\N{HANGUL SYLLABLE BO}) missing from current font.\n",
      "  fig.canvas.draw()\n",
      "/home/sdk/miniconda3/envs/MathAI/lib/python3.10/site-packages/seaborn/utils.py:84: UserWarning: Glyph 45236 (\\N{HANGUL SYLLABLE NAE}) missing from current font.\n",
      "  fig.canvas.draw()\n",
      "/home/sdk/miniconda3/envs/MathAI/lib/python3.10/site-packages/seaborn/utils.py:84: UserWarning: Glyph 47049 (\\N{HANGUL SYLLABLE RYANG}) missing from current font.\n",
      "  fig.canvas.draw()\n",
      "/home/sdk/miniconda3/envs/MathAI/lib/python3.10/site-packages/seaborn/utils.py:84: UserWarning: Glyph 46021 (\\N{HANGUL SYLLABLE DOG}) missing from current font.\n",
      "  fig.canvas.draw()\n",
      "/home/sdk/miniconda3/envs/MathAI/lib/python3.10/site-packages/seaborn/utils.py:84: UserWarning: Glyph 44396 (\\N{HANGUL SYLLABLE GU}) missing from current font.\n",
      "  fig.canvas.draw()\n",
      "/home/sdk/miniconda3/envs/MathAI/lib/python3.10/site-packages/seaborn/utils.py:84: UserWarning: Glyph 45804 (\\N{HANGUL SYLLABLE DAL}) missing from current font.\n",
      "  fig.canvas.draw()\n",
      "/home/sdk/miniconda3/envs/MathAI/lib/python3.10/site-packages/seaborn/utils.py:84: UserWarning: Glyph 49457 (\\N{HANGUL SYLLABLE SEONG}) missing from current font.\n",
      "  fig.canvas.draw()\n",
      "/home/sdk/miniconda3/envs/MathAI/lib/python3.10/site-packages/seaborn/utils.py:84: UserWarning: Glyph 44400 (\\N{HANGUL SYLLABLE GUN}) missing from current font.\n",
      "  fig.canvas.draw()\n",
      "/home/sdk/miniconda3/envs/MathAI/lib/python3.10/site-packages/IPython/core/pylabtools.py:152: UserWarning: Glyph 49324 (\\N{HANGUL SYLLABLE SA}) missing from current font.\n",
      "  fig.canvas.print_figure(bytes_io, **kw)\n",
      "/home/sdk/miniconda3/envs/MathAI/lib/python3.10/site-packages/IPython/core/pylabtools.py:152: UserWarning: Glyph 44256 (\\N{HANGUL SYLLABLE GO}) missing from current font.\n",
      "  fig.canvas.print_figure(bytes_io, **kw)\n",
      "/home/sdk/miniconda3/envs/MathAI/lib/python3.10/site-packages/IPython/core/pylabtools.py:152: UserWarning: Glyph 50976 (\\N{HANGUL SYLLABLE YU}) missing from current font.\n",
      "  fig.canvas.print_figure(bytes_io, **kw)\n",
      "/home/sdk/miniconda3/envs/MathAI/lib/python3.10/site-packages/IPython/core/pylabtools.py:152: UserWarning: Glyph 54805 (\\N{HANGUL SYLLABLE HYEONG}) missing from current font.\n",
      "  fig.canvas.print_figure(bytes_io, **kw)\n",
      "/home/sdk/miniconda3/envs/MathAI/lib/python3.10/site-packages/IPython/core/pylabtools.py:152: UserWarning: Glyph 52264 (\\N{HANGUL SYLLABLE CA}) missing from current font.\n",
      "  fig.canvas.print_figure(bytes_io, **kw)\n",
      "/home/sdk/miniconda3/envs/MathAI/lib/python3.10/site-packages/IPython/core/pylabtools.py:152: UserWarning: Glyph 45824 (\\N{HANGUL SYLLABLE DAE}) missing from current font.\n",
      "  fig.canvas.print_figure(bytes_io, **kw)\n",
      "/home/sdk/miniconda3/envs/MathAI/lib/python3.10/site-packages/IPython/core/pylabtools.py:152: UserWarning: Glyph 46988 (\\N{HANGUL SYLLABLE RAM}) missing from current font.\n",
      "  fig.canvas.print_figure(bytes_io, **kw)\n",
      "/home/sdk/miniconda3/envs/MathAI/lib/python3.10/site-packages/IPython/core/pylabtools.py:152: UserWarning: Glyph 46020 (\\N{HANGUL SYLLABLE DO}) missing from current font.\n",
      "  fig.canvas.print_figure(bytes_io, **kw)\n",
      "/home/sdk/miniconda3/envs/MathAI/lib/python3.10/site-packages/IPython/core/pylabtools.py:152: UserWarning: Glyph 47196 (\\N{HANGUL SYLLABLE RO}) missing from current font.\n",
      "  fig.canvas.print_figure(bytes_io, **kw)\n",
      "/home/sdk/miniconda3/envs/MathAI/lib/python3.10/site-packages/IPython/core/pylabtools.py:152: UserWarning: Glyph 53468 (\\N{HANGUL SYLLABLE TAE}) missing from current font.\n",
      "  fig.canvas.print_figure(bytes_io, **kw)\n",
      "/home/sdk/miniconda3/envs/MathAI/lib/python3.10/site-packages/IPython/core/pylabtools.py:152: UserWarning: Glyph 44368 (\\N{HANGUL SYLLABLE GYO}) missing from current font.\n",
      "  fig.canvas.print_figure(bytes_io, **kw)\n",
      "/home/sdk/miniconda3/envs/MathAI/lib/python3.10/site-packages/IPython/core/pylabtools.py:152: UserWarning: Glyph 50504 (\\N{HANGUL SYLLABLE AN}) missing from current font.\n",
      "  fig.canvas.print_figure(bytes_io, **kw)\n",
      "/home/sdk/miniconda3/envs/MathAI/lib/python3.10/site-packages/IPython/core/pylabtools.py:152: UserWarning: Glyph 44592 (\\N{HANGUL SYLLABLE GI}) missing from current font.\n",
      "  fig.canvas.print_figure(bytes_io, **kw)\n",
      "/home/sdk/miniconda3/envs/MathAI/lib/python3.10/site-packages/IPython/core/pylabtools.py:152: UserWarning: Glyph 53440 (\\N{HANGUL SYLLABLE TA}) missing from current font.\n",
      "  fig.canvas.print_figure(bytes_io, **kw)\n",
      "/home/sdk/miniconda3/envs/MathAI/lib/python3.10/site-packages/IPython/core/pylabtools.py:152: UserWarning: Glyph 50836 (\\N{HANGUL SYLLABLE YO}) missing from current font.\n",
      "  fig.canvas.print_figure(bytes_io, **kw)\n",
      "/home/sdk/miniconda3/envs/MathAI/lib/python3.10/site-packages/IPython/core/pylabtools.py:152: UserWarning: Glyph 51068 (\\N{HANGUL SYLLABLE IL}) missing from current font.\n",
      "  fig.canvas.print_figure(bytes_io, **kw)\n",
      "/home/sdk/miniconda3/envs/MathAI/lib/python3.10/site-packages/IPython/core/pylabtools.py:152: UserWarning: Glyph 54945 (\\N{HANGUL SYLLABLE HOENG}) missing from current font.\n",
      "  fig.canvas.print_figure(bytes_io, **kw)\n",
      "/home/sdk/miniconda3/envs/MathAI/lib/python3.10/site-packages/IPython/core/pylabtools.py:152: UserWarning: Glyph 45800 (\\N{HANGUL SYLLABLE DAN}) missing from current font.\n",
      "  fig.canvas.print_figure(bytes_io, **kw)\n",
      "/home/sdk/miniconda3/envs/MathAI/lib/python3.10/site-packages/IPython/core/pylabtools.py:152: UserWarning: Glyph 48372 (\\N{HANGUL SYLLABLE BO}) missing from current font.\n",
      "  fig.canvas.print_figure(bytes_io, **kw)\n",
      "/home/sdk/miniconda3/envs/MathAI/lib/python3.10/site-packages/IPython/core/pylabtools.py:152: UserWarning: Glyph 45236 (\\N{HANGUL SYLLABLE NAE}) missing from current font.\n",
      "  fig.canvas.print_figure(bytes_io, **kw)\n",
      "/home/sdk/miniconda3/envs/MathAI/lib/python3.10/site-packages/IPython/core/pylabtools.py:152: UserWarning: Glyph 47049 (\\N{HANGUL SYLLABLE RYANG}) missing from current font.\n",
      "  fig.canvas.print_figure(bytes_io, **kw)\n",
      "/home/sdk/miniconda3/envs/MathAI/lib/python3.10/site-packages/IPython/core/pylabtools.py:152: UserWarning: Glyph 46021 (\\N{HANGUL SYLLABLE DOG}) missing from current font.\n",
      "  fig.canvas.print_figure(bytes_io, **kw)\n",
      "/home/sdk/miniconda3/envs/MathAI/lib/python3.10/site-packages/IPython/core/pylabtools.py:152: UserWarning: Glyph 44396 (\\N{HANGUL SYLLABLE GU}) missing from current font.\n",
      "  fig.canvas.print_figure(bytes_io, **kw)\n",
      "/home/sdk/miniconda3/envs/MathAI/lib/python3.10/site-packages/IPython/core/pylabtools.py:152: UserWarning: Glyph 45804 (\\N{HANGUL SYLLABLE DAL}) missing from current font.\n",
      "  fig.canvas.print_figure(bytes_io, **kw)\n",
      "/home/sdk/miniconda3/envs/MathAI/lib/python3.10/site-packages/IPython/core/pylabtools.py:152: UserWarning: Glyph 49457 (\\N{HANGUL SYLLABLE SEONG}) missing from current font.\n",
      "  fig.canvas.print_figure(bytes_io, **kw)\n",
      "/home/sdk/miniconda3/envs/MathAI/lib/python3.10/site-packages/IPython/core/pylabtools.py:152: UserWarning: Glyph 44400 (\\N{HANGUL SYLLABLE GUN}) missing from current font.\n",
      "  fig.canvas.print_figure(bytes_io, **kw)\n"
     ]
    },
    {
     "data": {
      "image/png": "[encoded data removed]",
      "text/plain": [
       "<Figure size 1000x600 with 2 Axes>"
      ]
     },
     "metadata": {},
     "output_type": "display_data"
    }
   ],
   "source": [
    "import matplotlib.pyplot as plt\n",
    "import seaborn as sns\n",
    "import pandas as pd\n",
    "\n",
    "df = pd.concat([trn_X, trn_y], axis=1)\n",
    "\n",
    "correlation_matrix = df.corr()\n",
    "# 상관 행렬 계산\n",
    "eclo_correlation = correlation_matrix['ECLO'].abs().nlargest(11)\n",
    "\n",
    "# 시각화\n",
    "plt.figure(figsize=(10, 6))\n",
    "sns.heatmap(eclo_correlation.to_frame(), annot=True, cmap='coolwarm', fmt=\".2f\")\n",
    "plt.title('Top 10 Correlations with ECLO')\n",
    "plt.show()"
   ]
  },
  {
   "cell_type": "markdown",
   "metadata": {},
   "source": [
    "### Train set / Validation set split\n",
    "- trn_X 와 trx_y 를 train set 과 validation set 으로 분리시켜 줍니다."
   ]
  },
  {
   "cell_type": "code",
   "execution_count": 5,
   "metadata": {},
   "outputs": [],
   "source": [
    "from sklearn.model_selection import train_test_split\n",
    "import numpy as np\n",
    "\n",
    "X_train, X_test, y_train, y_test = train_test_split(trn_X, trn_y, test_size=0.3, random_state=RANDOM_STATE)\n",
    "y_train = np.ravel(y_train)\n",
    "y_test = np.ravel(y_test)"
   ]
  },
  {
   "cell_type": "markdown",
   "metadata": {},
   "source": [
    "# 실행\n",
    "- LinearRegression\n",
    "- Ridge\n",
    "- Lasso"
   ]
  },
  {
   "cell_type": "code",
   "execution_count": 6,
   "metadata": {},
   "outputs": [
    {
     "name": "stdout",
     "output_type": "stream",
     "text": [
      "Linear 테스트 MSE: 10.168343400640198\n",
      "Linear 테스트 R2: 0.026962718072043756\n",
      "ridge 베스트 파라미터: {'reg__alpha': 100}\n",
      "ridge 테스트 MSE: 10.167895416786823\n",
      "ridge 테스트 R2: 0.027005586902674295\n",
      "lasso 베스트 파라미터: {'reg__alpha': 0.1}\n",
      "lasso 테스트 MSE: 10.243576038140052\n",
      "lasso 테스트 R2 스코어: 0.019763496112199186\n"
     ]
    }
   ],
   "source": [
    "from sklearn.model_selection import GridSearchCV\n",
    "from sklearn.metrics import r2_score, mean_squared_error\n",
    "from sklearn.pipeline import Pipeline, FeatureUnion\n",
    "from sklearn.preprocessing import StandardScaler, RobustScaler, MinMaxScaler\n",
    "from sklearn.linear_model import LinearRegression, Ridge, Lasso\n",
    "import numpy as np\n",
    "\n",
    "linear_pipe = Pipeline([\n",
    "    ('scaler', FeatureUnion([\n",
    "        ('standard_scaler', StandardScaler()),\n",
    "        ('robust_scaler', RobustScaler()),\n",
    "        ('minmax_scaler', MinMaxScaler())\n",
    "    ])),\n",
    "    ('reg', LinearRegression())\n",
    "])\n",
    "\n",
    "ridge_pipe = Pipeline([\n",
    "    ('scaler', FeatureUnion([\n",
    "        ('standard_scaler', StandardScaler()),\n",
    "        ('robust_scaler', RobustScaler()),\n",
    "        ('minmax_scaler', MinMaxScaler())\n",
    "    ])),\n",
    "    ('reg', Ridge(random_state=RANDOM_STATE))\n",
    "])\n",
    "\n",
    "lasso_pipe = Pipeline([\n",
    "    ('scaler', FeatureUnion([\n",
    "        ('standard_scaler', StandardScaler()),\n",
    "        ('robust_scaler', RobustScaler()),\n",
    "        ('minmax_scaler', MinMaxScaler())\n",
    "    ])),\n",
    "    ('reg', Lasso(random_state=RANDOM_STATE))\n",
    "])\n",
    "\n",
    "linear_params = {}\n",
    "\n",
    "ridge_params = {\n",
    "    'reg__alpha': [0.1, 1, 10, 100]\n",
    "}\n",
    "\n",
    "lasso_params = {\n",
    "    'reg__alpha': [0.1, 1, 10, 100]\n",
    "}\n",
    "\n",
    "\n",
    "linear_grid = GridSearchCV(linear_pipe, linear_params, scoring='neg_mean_squared_error', cv=3)\n",
    "ridge_grid = GridSearchCV(ridge_pipe, ridge_params, scoring='neg_mean_squared_error', cv=3)\n",
    "lasso_grid = GridSearchCV(lasso_pipe, lasso_params, scoring='neg_mean_squared_error', cv=3)\n",
    "\n",
    "linear_grid.fit(X_train, y_train)\n",
    "ridge_grid.fit(X_train, y_train)\n",
    "lasso_grid.fit(X_train, y_train)\n",
    "\n",
    "linear_test_mse = mean_squared_error(y_test, linear_grid.predict(X_test))\n",
    "ridge_test_mse = mean_squared_error(y_test, ridge_grid.predict(X_test))\n",
    "lasso_test_mse = mean_squared_error(y_test, lasso_grid.predict(X_test))\n",
    "\n",
    "linear_test_r2 = r2_score(y_test, linear_grid.predict(X_test))\n",
    "ridge_test_r2 = r2_score(y_test, ridge_grid.predict(X_test))\n",
    "lasso_test_r2 = r2_score(y_test, lasso_grid.predict(X_test))\n",
    "\n",
    "print(\"Linear 테스트 MSE:\", linear_test_mse)\n",
    "print(\"Linear 테스트 R2:\", linear_test_r2)\n",
    "print(\"ridge 베스트 파라미터:\", ridge_grid.best_params_)\n",
    "print(\"ridge 테스트 MSE:\", ridge_test_mse)\n",
    "print(\"ridge 테스트 R2:\", ridge_test_r2)\n",
    "print(\"lasso 베스트 파라미터:\", lasso_grid.best_params_)\n",
    "print(\"lasso 테스트 MSE:\", lasso_test_mse)\n",
    "print(\"lasso 테스트 R2 스코어:\", lasso_test_r2)\n"
   ]
  },
  {
   "cell_type": "markdown",
   "metadata": {},
   "source": [
    "# 실행\n",
    "- DecisionTreeRegressor\n",
    "- RandomForestRegressor\n",
    "- SVR"
   ]
  },
  {
   "cell_type": "code",
   "execution_count": 42,
   "metadata": {},
   "outputs": [
    {
     "name": "stdout",
     "output_type": "stream",
     "text": [
      "Random Forest 베스트 파라미터: {'reg__max_depth': 10, 'reg__min_samples_leaf': 4, 'reg__min_samples_split': 10, 'reg__n_estimators': 100}\n",
      "Random Forest 테스트 MSE: 10.161970002866724\n",
      "Random Forest 테스트 R2 스코어: 0.027572606369655417\n"
     ]
    }
   ],
   "source": [
    "from sklearn.model_selection import GridSearchCV\n",
    "from sklearn.metrics import r2_score, mean_squared_error\n",
    "from sklearn.pipeline import Pipeline\n",
    "from sklearn.preprocessing import StandardScaler\n",
    "from sklearn.tree import DecisionTreeRegressor\n",
    "from sklearn.ensemble import RandomForestRegressor\n",
    "from sklearn.svm import SVR\n",
    "\n",
    "# dt_pipe = Pipeline([\n",
    "#     ('scaler', StandardScaler()),\n",
    "#     ('minmax_scaler', MinMaxScaler()),\n",
    "#     ('reg', DecisionTreeRegressor(random_state=2023))\n",
    "# ])\n",
    "\n",
    "rf_pipe = Pipeline([\n",
    "    ('scaler', FeatureUnion([\n",
    "        ('standard_scaler', StandardScaler()),\n",
    "        ('minmax_scaler', MinMaxScaler()),\n",
    "    ])),\n",
    "    ('reg', RandomForestRegressor(random_state=2023))\n",
    "])\n",
    "\n",
    "# svr_pipe = Pipeline([\n",
    "#     ('scaler', StandardScaler()),\n",
    "#     ('minmax_scaler', MinMaxScaler()),\n",
    "#     ('reg', SVR())\n",
    "# ])\n",
    "\n",
    "# dt_params = {\n",
    "#     'reg__max_depth': [None, 10, 20, 30],\n",
    "#     'reg__min_samples_split': [2, 5, 10],\n",
    "#     'reg__min_samples_leaf': [1, 2, 4]\n",
    "# }\n",
    "\n",
    "rf_params = {\n",
    "    'reg__n_estimators': [10, 50, 100],\n",
    "    'reg__max_depth': [None, 10, 20, 30],\n",
    "    'reg__min_samples_split': [2, 5, 10],\n",
    "    'reg__min_samples_leaf': [1, 2, 4]\n",
    "}\n",
    "\n",
    "# svr_params = {\n",
    "#     'reg__C': [0.1, 1, 10],\n",
    "#     'reg__epsilon': [0.01, 0.1, 1],\n",
    "#     'reg__kernel': ['linear', 'rbf']\n",
    "# }\n",
    "\n",
    "# dt_grid = GridSearchCV(dt_pipe, dt_params, scoring='neg_mean_squared_error', cv=3)\n",
    "rf_grid = GridSearchCV(rf_pipe, rf_params, scoring='neg_mean_squared_error', cv=3)\n",
    "# svr_grid = GridSearchCV(svr_pipe, svr_params, scoring='neg_mean_squared_error', cv=3)\n",
    "\n",
    "# dt_grid.fit(X_train, y_train)\n",
    "rf_grid.fit(X_train, y_train)\n",
    "# svr_grid.fit(X_train, y_train)\n",
    "\n",
    "# dt_test_mse = mean_squared_error(y_test, dt_grid.predict(X_test))\n",
    "rf_test_mse = mean_squared_error(y_test, rf_grid.predict(X_test))\n",
    "# svr_test_mse = mean_squared_error(y_test, svr_grid.predict(X_test))\n",
    "\n",
    "# dt_test_r2 = r2_score(y_test, dt_grid.predict(X_test))\n",
    "rf_test_r2 = r2_score(y_test, rf_grid.predict(X_test))\n",
    "# svr_test_r2 = r2_score(y_test, svr_grid.predict(X_test))\n",
    "\n",
    "# print(\"Decision Tree 베스트 파라미터:\", dt_grid.best_params_)\n",
    "# print(\"Decision Tree 테스트 MSE:\", dt_test_mse)\n",
    "# print(\"Decision Tree 테스트 R2 스코어:\", dt_test_r2)\n",
    "\n",
    "print(\"Random Forest 베스트 파라미터:\", rf_grid.best_params_)\n",
    "print(\"Random Forest 테스트 MSE:\", rf_test_mse)\n",
    "print(\"Random Forest 테스트 R2 스코어:\", rf_test_r2)\n",
    "\n",
    "# print(\"SVR 베스트 파라미터:\", svr_grid.best_params_)\n",
    "# print(\"SVR 테스트 MSE:\", svr_test_mse)\n",
    "# print(\"SVR 테스트 R2 스코어:\", svr_test_r2)\n"
   ]
  },
  {
   "cell_type": "code",
   "execution_count": 43,
   "metadata": {},
   "outputs": [],
   "source": [
    "ran = RandomForestRegressor(n_estimators=4, max_depth=10, random_state=2023)"
   ]
  },
  {
   "cell_type": "code",
   "execution_count": null,
   "metadata": {},
   "outputs": [
    {
     "name": "stderr",
     "output_type": "stream",
     "text": [
      "/home/sdk/miniconda3/envs/MathAI/lib/python3.10/site-packages/sklearn/base.py:1152: DataConversionWarning: A column-vector y was passed when a 1d array was expected. Please change the shape of y to (n_samples,), for example using ravel().\n",
      "  return fit_method(estimator, *args, **kwargs)\n"
     ]
    },
    {
     "data": {
      "image/png": "[encoded data removed]",
      "text/plain": [
       "<Figure size 800x600 with 1 Axes>"
      ]
     },
     "metadata": {},
     "output_type": "display_data"
    }
   ],
   "source": [
    "from sklearn.preprocessing import MinMaxScaler\n",
    "scaler = MinMaxScaler()\n",
    "X_scaled = scaler.fit_transform(X_train)\n",
    "y_scaled = scaler.fit_transform(pd.DataFrame(y_train))\n",
    "\n",
    "ran.fit(X_scaled, y_scaled)\n",
    "\n",
    "ser = pd.Series(ran.feature_importances_, index=X_train.columns)\n",
    "\n",
    "# 내림차순 정렬을 이용한다, 중요도 탑 15개 출력\n",
    "top15 = ser.sort_values(ascending=False)[:15]\n",
    "plt.figure(figsize=(8,6))\n",
    "plt.title('Feature Importances Top 15')\n",
    "sns.barplot(x=top15, y=top15.index)\n",
    "plt.show()"
   ]
  },
  {
   "cell_type": "code",
   "execution_count": null,
   "metadata": {},
   "outputs": [],
   "source": []
  }
 ],
 "metadata": {
  "kernelspec": {
   "display_name": "MathAI",
   "language": "python",
   "name": "python3"
  },
  "language_info": {
   "codemirror_mode": {
    "name": "ipython",
    "version": 3
   },
   "file_extension": ".py",
   "mimetype": "text/x-python",
   "name": "python",
   "nbconvert_exporter": "python",
   "pygments_lexer": "ipython3",
   "version": "3.10.13"
  }
 },
 "nbformat": 4,
 "nbformat_minor": 2
}
